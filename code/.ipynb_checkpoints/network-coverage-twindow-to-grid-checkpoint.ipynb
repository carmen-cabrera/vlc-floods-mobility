{
 "cells": [
  {
   "cell_type": "code",
   "execution_count": 1,
   "id": "79f5b57d",
   "metadata": {},
   "outputs": [],
   "source": [
    "import matplotlib.pyplot as plt\n",
    "import numpy as np\n",
    "import math\n",
    "import pandas as pd\n",
    "import statsmodels.api as sm\n",
    "from scipy.special import gamma, loggamma, factorial\n",
    "import scipy.stats\n",
    "from scipy.interpolate import interp1d\n",
    "from matplotlib.ticker import AutoMinorLocator \n",
    "from matplotlib import rc, font_manager\n",
    "from matplotlib.lines import Line2D\n",
    "from matplotlib import colors as mcolors\n",
    "from mycolorpy import colorlist as mcp\n",
    "from matplotlib import legend_handler\n",
    "from matplotlib_scalebar.scalebar import ScaleBar\n",
    "from mpl_toolkits.axes_grid1 import make_axes_locatable, axes_size\n",
    "import collections\n",
    "import matplotlib\n",
    "import shapely.geometry\n",
    "from shapely.geometry import Point\n",
    "from shapely.geometry import Polygon\n",
    "import shapely.ops \n",
    "from geopy.geocoders import Nominatim\n",
    "import geopandas as gpd\n",
    "import mapclassify\n",
    "import jenkspy\n",
    "import random\n",
    "import contextily as cx\n",
    "import os\n",
    "import rioxarray as rx\n",
    "import pyreadr\n",
    "from sklearn.preprocessing import StandardScaler\n",
    "from sklearn.cluster import KMeans\n",
    "from sklearn import metrics\n",
    "from pysal.lib import weights\n",
    "from libpysal.io import open as psopen\n",
    "# import plots\n",
    "import seaborn as sns\n",
    "from datetime import datetime, timedelta\n",
    "import jenkspy\n",
    "import pyquadkey2\n",
    "from pyquadkey2.quadkey import QuadKey"
   ]
  },
  {
   "cell_type": "code",
   "execution_count": 2,
   "id": "b4cf5ac6",
   "metadata": {},
   "outputs": [],
   "source": [
    "wd = os.path.abspath(os.path.join(os.getcwd(), os.pardir))"
   ]
  },
  {
   "cell_type": "code",
   "execution_count": 3,
   "id": "e536254a",
   "metadata": {},
   "outputs": [],
   "source": [
    "grid_pop = gpd.read_file(wd + '/data/output/spain/gridded-geography/gridded_country_shp.shp')"
   ]
  },
  {
   "cell_type": "code",
   "execution_count": 4,
   "id": "5af3ce59",
   "metadata": {},
   "outputs": [],
   "source": [
    "files = sorted(os.listdir(wd + '/data/input/facebook/network-coverage/probability/5225941450021572_2024-10-30_2024-11-14_csv'))\n",
    "files = [file for file in files]\n",
    "\n",
    "\n"
   ]
  },
  {
   "cell_type": "code",
   "execution_count": 5,
   "id": "189eaad4",
   "metadata": {},
   "outputs": [
    {
     "data": {
      "text/plain": [
       "['5225941450021572_2024-10-30_0000.csv',\n",
       " '5225941450021572_2024-10-31_0000.csv',\n",
       " '5225941450021572_2024-11-01_0000.csv',\n",
       " '5225941450021572_2024-11-02_0000.csv',\n",
       " '5225941450021572_2024-11-03_0000.csv',\n",
       " '5225941450021572_2024-11-04_0000.csv',\n",
       " '5225941450021572_2024-11-05_0000.csv',\n",
       " '5225941450021572_2024-11-06_0000.csv',\n",
       " '5225941450021572_2024-11-07_0000.csv',\n",
       " '5225941450021572_2024-11-08_0000.csv',\n",
       " '5225941450021572_2024-11-09_0000.csv',\n",
       " '5225941450021572_2024-11-10_0000.csv',\n",
       " '5225941450021572_2024-11-11_0000.csv',\n",
       " '5225941450021572_2024-11-12_0000.csv',\n",
       " '5225941450021572_2024-11-13_0000.csv']"
      ]
     },
     "execution_count": 5,
     "metadata": {},
     "output_type": "execute_result"
    }
   ],
   "source": [
    "files"
   ]
  },
  {
   "cell_type": "code",
   "execution_count": 10,
   "id": "cde1b735",
   "metadata": {},
   "outputs": [
    {
     "data": {
      "text/html": [
       "<div>\n",
       "<style scoped>\n",
       "    .dataframe tbody tr th:only-of-type {\n",
       "        vertical-align: middle;\n",
       "    }\n",
       "\n",
       "    .dataframe tbody tr th {\n",
       "        vertical-align: top;\n",
       "    }\n",
       "\n",
       "    .dataframe thead th {\n",
       "        text-align: right;\n",
       "    }\n",
       "</style>\n",
       "<table border=\"1\" class=\"dataframe\">\n",
       "  <thead>\n",
       "    <tr style=\"text-align: right;\">\n",
       "      <th></th>\n",
       "      <th>p_connectivity</th>\n",
       "      <th>country</th>\n",
       "      <th>lon</th>\n",
       "      <th>lat</th>\n",
       "    </tr>\n",
       "  </thead>\n",
       "  <tbody>\n",
       "    <tr>\n",
       "      <th>0</th>\n",
       "      <td>1.0</td>\n",
       "      <td>ES</td>\n",
       "      <td>2.933350</td>\n",
       "      <td>42.057450</td>\n",
       "    </tr>\n",
       "    <tr>\n",
       "      <th>1</th>\n",
       "      <td>1.0</td>\n",
       "      <td>ES</td>\n",
       "      <td>-3.350830</td>\n",
       "      <td>41.812267</td>\n",
       "    </tr>\n",
       "    <tr>\n",
       "      <th>2</th>\n",
       "      <td>0.0</td>\n",
       "      <td>ES</td>\n",
       "      <td>0.714111</td>\n",
       "      <td>42.106373</td>\n",
       "    </tr>\n",
       "    <tr>\n",
       "      <th>3</th>\n",
       "      <td>1.0</td>\n",
       "      <td>ES</td>\n",
       "      <td>-2.955322</td>\n",
       "      <td>37.935533</td>\n",
       "    </tr>\n",
       "    <tr>\n",
       "      <th>4</th>\n",
       "      <td>1.0</td>\n",
       "      <td>ES</td>\n",
       "      <td>-4.383545</td>\n",
       "      <td>41.352072</td>\n",
       "    </tr>\n",
       "    <tr>\n",
       "      <th>...</th>\n",
       "      <td>...</td>\n",
       "      <td>...</td>\n",
       "      <td>...</td>\n",
       "      <td>...</td>\n",
       "    </tr>\n",
       "    <tr>\n",
       "      <th>29647</th>\n",
       "      <td>1.0</td>\n",
       "      <td>ES</td>\n",
       "      <td>-4.119873</td>\n",
       "      <td>38.711232</td>\n",
       "    </tr>\n",
       "    <tr>\n",
       "      <th>29648</th>\n",
       "      <td>1.0</td>\n",
       "      <td>ES</td>\n",
       "      <td>-1.285400</td>\n",
       "      <td>39.410733</td>\n",
       "    </tr>\n",
       "    <tr>\n",
       "      <th>29649</th>\n",
       "      <td>1.0</td>\n",
       "      <td>ES</td>\n",
       "      <td>2.977295</td>\n",
       "      <td>39.681825</td>\n",
       "    </tr>\n",
       "    <tr>\n",
       "      <th>29650</th>\n",
       "      <td>1.0</td>\n",
       "      <td>ES</td>\n",
       "      <td>-0.384521</td>\n",
       "      <td>39.580290</td>\n",
       "    </tr>\n",
       "    <tr>\n",
       "      <th>29651</th>\n",
       "      <td>1.0</td>\n",
       "      <td>ES</td>\n",
       "      <td>-0.274658</td>\n",
       "      <td>40.019201</td>\n",
       "    </tr>\n",
       "  </tbody>\n",
       "</table>\n",
       "<p>29652 rows × 4 columns</p>\n",
       "</div>"
      ],
      "text/plain": [
       "       p_connectivity country       lon        lat\n",
       "0                 1.0      ES  2.933350  42.057450\n",
       "1                 1.0      ES -3.350830  41.812267\n",
       "2                 0.0      ES  0.714111  42.106373\n",
       "3                 1.0      ES -2.955322  37.935533\n",
       "4                 1.0      ES -4.383545  41.352072\n",
       "...               ...     ...       ...        ...\n",
       "29647             1.0      ES -4.119873  38.711232\n",
       "29648             1.0      ES -1.285400  39.410733\n",
       "29649             1.0      ES  2.977295  39.681825\n",
       "29650             1.0      ES -0.384521  39.580290\n",
       "29651             1.0      ES -0.274658  40.019201\n",
       "\n",
       "[29652 rows x 4 columns]"
      ]
     },
     "execution_count": 10,
     "metadata": {},
     "output_type": "execute_result"
    }
   ],
   "source": [
    "df = pd.read_csv(wd + '/data/input/facebook/network-coverage/probability/5225941450021572_2024-10-30_2024-11-14_csv' + '/' + files[7])\n",
    "\n",
    "df"
   ]
  },
  {
   "cell_type": "code",
   "execution_count": 12,
   "id": "02d56b0f",
   "metadata": {},
   "outputs": [
    {
     "data": {
      "text/html": [
       "<div>\n",
       "<style scoped>\n",
       "    .dataframe tbody tr th:only-of-type {\n",
       "        vertical-align: middle;\n",
       "    }\n",
       "\n",
       "    .dataframe tbody tr th {\n",
       "        vertical-align: top;\n",
       "    }\n",
       "\n",
       "    .dataframe thead th {\n",
       "        text-align: right;\n",
       "    }\n",
       "</style>\n",
       "<table border=\"1\" class=\"dataframe\">\n",
       "  <thead>\n",
       "    <tr style=\"text-align: right;\">\n",
       "      <th></th>\n",
       "      <th>p_connectivity</th>\n",
       "      <th>country</th>\n",
       "      <th>lon</th>\n",
       "      <th>lat</th>\n",
       "      <th>geometry</th>\n",
       "    </tr>\n",
       "  </thead>\n",
       "  <tbody>\n",
       "    <tr>\n",
       "      <th>0</th>\n",
       "      <td>1.0</td>\n",
       "      <td>ES</td>\n",
       "      <td>2.933350</td>\n",
       "      <td>42.057450</td>\n",
       "      <td>POINT (2.93335 42.05745)</td>\n",
       "    </tr>\n",
       "    <tr>\n",
       "      <th>1</th>\n",
       "      <td>1.0</td>\n",
       "      <td>ES</td>\n",
       "      <td>-3.350830</td>\n",
       "      <td>41.812267</td>\n",
       "      <td>POINT (-3.35083 41.81227)</td>\n",
       "    </tr>\n",
       "    <tr>\n",
       "      <th>2</th>\n",
       "      <td>0.0</td>\n",
       "      <td>ES</td>\n",
       "      <td>0.714111</td>\n",
       "      <td>42.106373</td>\n",
       "      <td>POINT (0.71411 42.10637)</td>\n",
       "    </tr>\n",
       "    <tr>\n",
       "      <th>3</th>\n",
       "      <td>1.0</td>\n",
       "      <td>ES</td>\n",
       "      <td>-2.955322</td>\n",
       "      <td>37.935533</td>\n",
       "      <td>POINT (-2.95532 37.93553)</td>\n",
       "    </tr>\n",
       "    <tr>\n",
       "      <th>4</th>\n",
       "      <td>1.0</td>\n",
       "      <td>ES</td>\n",
       "      <td>-4.383545</td>\n",
       "      <td>41.352072</td>\n",
       "      <td>POINT (-4.38354 41.35207)</td>\n",
       "    </tr>\n",
       "    <tr>\n",
       "      <th>...</th>\n",
       "      <td>...</td>\n",
       "      <td>...</td>\n",
       "      <td>...</td>\n",
       "      <td>...</td>\n",
       "      <td>...</td>\n",
       "    </tr>\n",
       "    <tr>\n",
       "      <th>29647</th>\n",
       "      <td>1.0</td>\n",
       "      <td>ES</td>\n",
       "      <td>-4.119873</td>\n",
       "      <td>38.711232</td>\n",
       "      <td>POINT (-4.11987 38.71123)</td>\n",
       "    </tr>\n",
       "    <tr>\n",
       "      <th>29648</th>\n",
       "      <td>1.0</td>\n",
       "      <td>ES</td>\n",
       "      <td>-1.285400</td>\n",
       "      <td>39.410733</td>\n",
       "      <td>POINT (-1.28540 39.41073)</td>\n",
       "    </tr>\n",
       "    <tr>\n",
       "      <th>29649</th>\n",
       "      <td>1.0</td>\n",
       "      <td>ES</td>\n",
       "      <td>2.977295</td>\n",
       "      <td>39.681825</td>\n",
       "      <td>POINT (2.97729 39.68183)</td>\n",
       "    </tr>\n",
       "    <tr>\n",
       "      <th>29650</th>\n",
       "      <td>1.0</td>\n",
       "      <td>ES</td>\n",
       "      <td>-0.384521</td>\n",
       "      <td>39.580290</td>\n",
       "      <td>POINT (-0.38452 39.58029)</td>\n",
       "    </tr>\n",
       "    <tr>\n",
       "      <th>29651</th>\n",
       "      <td>1.0</td>\n",
       "      <td>ES</td>\n",
       "      <td>-0.274658</td>\n",
       "      <td>40.019201</td>\n",
       "      <td>POINT (-0.27466 40.01920)</td>\n",
       "    </tr>\n",
       "  </tbody>\n",
       "</table>\n",
       "<p>29652 rows × 5 columns</p>\n",
       "</div>"
      ],
      "text/plain": [
       "       p_connectivity country       lon        lat                   geometry\n",
       "0                 1.0      ES  2.933350  42.057450   POINT (2.93335 42.05745)\n",
       "1                 1.0      ES -3.350830  41.812267  POINT (-3.35083 41.81227)\n",
       "2                 0.0      ES  0.714111  42.106373   POINT (0.71411 42.10637)\n",
       "3                 1.0      ES -2.955322  37.935533  POINT (-2.95532 37.93553)\n",
       "4                 1.0      ES -4.383545  41.352072  POINT (-4.38354 41.35207)\n",
       "...               ...     ...       ...        ...                        ...\n",
       "29647             1.0      ES -4.119873  38.711232  POINT (-4.11987 38.71123)\n",
       "29648             1.0      ES -1.285400  39.410733  POINT (-1.28540 39.41073)\n",
       "29649             1.0      ES  2.977295  39.681825   POINT (2.97729 39.68183)\n",
       "29650             1.0      ES -0.384521  39.580290  POINT (-0.38452 39.58029)\n",
       "29651             1.0      ES -0.274658  40.019201  POINT (-0.27466 40.01920)\n",
       "\n",
       "[29652 rows x 5 columns]"
      ]
     },
     "execution_count": 12,
     "metadata": {},
     "output_type": "execute_result"
    }
   ],
   "source": [
    "gpd.GeoDataFrame(df, geometry=gpd.points_from_xy(df.lon, df.lat), crs=\"EPSG:4326\")\n",
    "        "
   ]
  },
  {
   "cell_type": "markdown",
   "id": "6b761cbe",
   "metadata": {},
   "source": [
    "## Add geometries to network coverage data and save"
   ]
  },
  {
   "cell_type": "code",
   "execution_count": 7,
   "id": "8f18c342",
   "metadata": {},
   "outputs": [
    {
     "name": "stdout",
     "output_type": "stream",
     "text": [
      "0.0\n"
     ]
    },
    {
     "name": "stderr",
     "output_type": "stream",
     "text": [
      "/var/folders/79/65l52xsj7vq_4_t_l6k5bl2c0000gn/T/ipykernel_82019/1024092699.py:18: UserWarning: Column names longer than 10 characters will be truncated when saved to ESRI Shapefile.\n",
      "  gdf.to_file(path + '/network-coverage_' + str(t) + '.shp')\n"
     ]
    },
    {
     "name": "stdout",
     "output_type": "stream",
     "text": [
      "6.666666666666667\n"
     ]
    },
    {
     "name": "stderr",
     "output_type": "stream",
     "text": [
      "/var/folders/79/65l52xsj7vq_4_t_l6k5bl2c0000gn/T/ipykernel_82019/1024092699.py:18: UserWarning: Column names longer than 10 characters will be truncated when saved to ESRI Shapefile.\n",
      "  gdf.to_file(path + '/network-coverage_' + str(t) + '.shp')\n"
     ]
    },
    {
     "name": "stdout",
     "output_type": "stream",
     "text": [
      "13.333333333333334\n"
     ]
    },
    {
     "name": "stderr",
     "output_type": "stream",
     "text": [
      "/var/folders/79/65l52xsj7vq_4_t_l6k5bl2c0000gn/T/ipykernel_82019/1024092699.py:18: UserWarning: Column names longer than 10 characters will be truncated when saved to ESRI Shapefile.\n",
      "  gdf.to_file(path + '/network-coverage_' + str(t) + '.shp')\n"
     ]
    },
    {
     "name": "stdout",
     "output_type": "stream",
     "text": [
      "20.0\n"
     ]
    },
    {
     "name": "stderr",
     "output_type": "stream",
     "text": [
      "/var/folders/79/65l52xsj7vq_4_t_l6k5bl2c0000gn/T/ipykernel_82019/1024092699.py:18: UserWarning: Column names longer than 10 characters will be truncated when saved to ESRI Shapefile.\n",
      "  gdf.to_file(path + '/network-coverage_' + str(t) + '.shp')\n"
     ]
    },
    {
     "name": "stdout",
     "output_type": "stream",
     "text": [
      "26.666666666666668\n"
     ]
    },
    {
     "name": "stderr",
     "output_type": "stream",
     "text": [
      "/var/folders/79/65l52xsj7vq_4_t_l6k5bl2c0000gn/T/ipykernel_82019/1024092699.py:18: UserWarning: Column names longer than 10 characters will be truncated when saved to ESRI Shapefile.\n",
      "  gdf.to_file(path + '/network-coverage_' + str(t) + '.shp')\n"
     ]
    },
    {
     "name": "stdout",
     "output_type": "stream",
     "text": [
      "33.33333333333333\n"
     ]
    },
    {
     "name": "stderr",
     "output_type": "stream",
     "text": [
      "/var/folders/79/65l52xsj7vq_4_t_l6k5bl2c0000gn/T/ipykernel_82019/1024092699.py:18: UserWarning: Column names longer than 10 characters will be truncated when saved to ESRI Shapefile.\n",
      "  gdf.to_file(path + '/network-coverage_' + str(t) + '.shp')\n"
     ]
    },
    {
     "name": "stdout",
     "output_type": "stream",
     "text": [
      "40.0\n"
     ]
    },
    {
     "name": "stderr",
     "output_type": "stream",
     "text": [
      "/var/folders/79/65l52xsj7vq_4_t_l6k5bl2c0000gn/T/ipykernel_82019/1024092699.py:18: UserWarning: Column names longer than 10 characters will be truncated when saved to ESRI Shapefile.\n",
      "  gdf.to_file(path + '/network-coverage_' + str(t) + '.shp')\n"
     ]
    },
    {
     "name": "stdout",
     "output_type": "stream",
     "text": [
      "46.666666666666664\n"
     ]
    },
    {
     "name": "stderr",
     "output_type": "stream",
     "text": [
      "/var/folders/79/65l52xsj7vq_4_t_l6k5bl2c0000gn/T/ipykernel_82019/1024092699.py:18: UserWarning: Column names longer than 10 characters will be truncated when saved to ESRI Shapefile.\n",
      "  gdf.to_file(path + '/network-coverage_' + str(t) + '.shp')\n"
     ]
    },
    {
     "name": "stdout",
     "output_type": "stream",
     "text": [
      "53.333333333333336\n"
     ]
    },
    {
     "name": "stderr",
     "output_type": "stream",
     "text": [
      "/var/folders/79/65l52xsj7vq_4_t_l6k5bl2c0000gn/T/ipykernel_82019/1024092699.py:18: UserWarning: Column names longer than 10 characters will be truncated when saved to ESRI Shapefile.\n",
      "  gdf.to_file(path + '/network-coverage_' + str(t) + '.shp')\n"
     ]
    },
    {
     "name": "stdout",
     "output_type": "stream",
     "text": [
      "60.0\n"
     ]
    },
    {
     "name": "stderr",
     "output_type": "stream",
     "text": [
      "/var/folders/79/65l52xsj7vq_4_t_l6k5bl2c0000gn/T/ipykernel_82019/1024092699.py:18: UserWarning: Column names longer than 10 characters will be truncated when saved to ESRI Shapefile.\n",
      "  gdf.to_file(path + '/network-coverage_' + str(t) + '.shp')\n"
     ]
    },
    {
     "name": "stdout",
     "output_type": "stream",
     "text": [
      "66.66666666666666\n"
     ]
    },
    {
     "name": "stderr",
     "output_type": "stream",
     "text": [
      "/var/folders/79/65l52xsj7vq_4_t_l6k5bl2c0000gn/T/ipykernel_82019/1024092699.py:18: UserWarning: Column names longer than 10 characters will be truncated when saved to ESRI Shapefile.\n",
      "  gdf.to_file(path + '/network-coverage_' + str(t) + '.shp')\n"
     ]
    },
    {
     "name": "stdout",
     "output_type": "stream",
     "text": [
      "73.33333333333333\n"
     ]
    },
    {
     "name": "stderr",
     "output_type": "stream",
     "text": [
      "/var/folders/79/65l52xsj7vq_4_t_l6k5bl2c0000gn/T/ipykernel_82019/1024092699.py:18: UserWarning: Column names longer than 10 characters will be truncated when saved to ESRI Shapefile.\n",
      "  gdf.to_file(path + '/network-coverage_' + str(t) + '.shp')\n"
     ]
    },
    {
     "name": "stdout",
     "output_type": "stream",
     "text": [
      "80.0\n"
     ]
    },
    {
     "name": "stderr",
     "output_type": "stream",
     "text": [
      "/var/folders/79/65l52xsj7vq_4_t_l6k5bl2c0000gn/T/ipykernel_82019/1024092699.py:18: UserWarning: Column names longer than 10 characters will be truncated when saved to ESRI Shapefile.\n",
      "  gdf.to_file(path + '/network-coverage_' + str(t) + '.shp')\n"
     ]
    },
    {
     "name": "stdout",
     "output_type": "stream",
     "text": [
      "86.66666666666667\n"
     ]
    },
    {
     "name": "stderr",
     "output_type": "stream",
     "text": [
      "/var/folders/79/65l52xsj7vq_4_t_l6k5bl2c0000gn/T/ipykernel_82019/1024092699.py:18: UserWarning: Column names longer than 10 characters will be truncated when saved to ESRI Shapefile.\n",
      "  gdf.to_file(path + '/network-coverage_' + str(t) + '.shp')\n"
     ]
    },
    {
     "name": "stdout",
     "output_type": "stream",
     "text": [
      "93.33333333333333\n"
     ]
    },
    {
     "name": "stderr",
     "output_type": "stream",
     "text": [
      "/var/folders/79/65l52xsj7vq_4_t_l6k5bl2c0000gn/T/ipykernel_82019/1024092699.py:18: UserWarning: Column names longer than 10 characters will be truncated when saved to ESRI Shapefile.\n",
      "  gdf.to_file(path + '/network-coverage_' + str(t) + '.shp')\n"
     ]
    }
   ],
   "source": [
    "for i in range(len(files)):   \n",
    "    \n",
    "    print(i/len(files)*100)\n",
    "    \n",
    "    try:\n",
    "        \n",
    "        file = files[i]\n",
    "        df = pd.read_csv(wd + '/data/input/facebook/network-coverage/probability/5225941450021572_2024-10-30_2024-11-14_csv' + '/' + file)\n",
    "        gdf = gpd.GeoDataFrame(df, geometry=gpd.points_from_xy(df.lon, df.lat), crs=\"EPSG:4258\")\n",
    "\n",
    "    except:\n",
    "        print(i)\n",
    "    \n",
    "    t = file[-19:-4]   \n",
    "    path = wd + '/data/output/spain/facebook/network-coverage/grid-by-twindow/network-coverage_' + str(t)\n",
    "    if not os.path.exists(path):\n",
    "        os.makedirs(path)\n",
    "    gdf.to_file(path + '/network-coverage_' + str(t) + '.shp')\n",
    "    \n",
    "    \n",
    "    "
   ]
  },
  {
   "cell_type": "code",
   "execution_count": null,
   "id": "d04d1ae6",
   "metadata": {},
   "outputs": [],
   "source": []
  }
 ],
 "metadata": {
  "kernelspec": {
   "display_name": "Python 3 (ipykernel)",
   "language": "python",
   "name": "python3"
  },
  "language_info": {
   "codemirror_mode": {
    "name": "ipython",
    "version": 3
   },
   "file_extension": ".py",
   "mimetype": "text/x-python",
   "name": "python",
   "nbconvert_exporter": "python",
   "pygments_lexer": "ipython3",
   "version": "3.10.9"
  }
 },
 "nbformat": 4,
 "nbformat_minor": 5
}

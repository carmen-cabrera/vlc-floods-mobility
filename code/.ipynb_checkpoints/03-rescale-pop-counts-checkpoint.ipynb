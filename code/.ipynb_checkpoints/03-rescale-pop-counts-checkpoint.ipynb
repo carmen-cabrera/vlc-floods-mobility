{
 "cells": [
  {
   "cell_type": "code",
   "execution_count": 1,
   "id": "9d3a414d",
   "metadata": {},
   "outputs": [],
   "source": [
    "import matplotlib.pyplot as plt\n",
    "import numpy as np\n",
    "import math\n",
    "import pandas as pd\n",
    "import statsmodels.api as sm\n",
    "from scipy.special import gamma, loggamma, factorial\n",
    "import scipy.stats\n",
    "from scipy.interpolate import interp1d\n",
    "from matplotlib.ticker import AutoMinorLocator \n",
    "from matplotlib import rc, font_manager\n",
    "from matplotlib.lines import Line2D\n",
    "from matplotlib import colors as mcolors\n",
    "from mycolorpy import colorlist as mcp\n",
    "from matplotlib import legend_handler\n",
    "from matplotlib_scalebar.scalebar import ScaleBar\n",
    "from mpl_toolkits.axes_grid1 import make_axes_locatable, axes_size\n",
    "import collections\n",
    "import matplotlib\n",
    "import shapely.geometry\n",
    "from shapely.geometry import Point\n",
    "from shapely.geometry import Polygon\n",
    "import shapely.ops \n",
    "from geopy.geocoders import Nominatim\n",
    "import geopandas as gpd\n",
    "import mapclassify\n",
    "import jenkspy\n",
    "import random\n",
    "import contextily as cx\n",
    "import os\n",
    "import rioxarray as rx\n",
    "import pyreadr\n",
    "from sklearn.preprocessing import StandardScaler\n",
    "from sklearn.cluster import KMeans\n",
    "from sklearn import metrics\n",
    "from pysal.lib import weights\n",
    "from libpysal.io import open as psopen\n",
    "# import plots\n",
    "import seaborn as sns\n",
    "from datetime import datetime, timedelta\n",
    "import jenkspy\n",
    "import pyquadkey2\n",
    "from pyquadkey2.quadkey import QuadKey"
   ]
  },
  {
   "cell_type": "code",
   "execution_count": 2,
   "id": "c499fc60",
   "metadata": {},
   "outputs": [],
   "source": [
    "wd = os.path.abspath(os.path.join(os.getcwd(), os.pardir))"
   ]
  },
  {
   "cell_type": "markdown",
   "id": "b3337bee",
   "metadata": {},
   "source": [
    "## Store sum of user counts for each time stamp"
   ]
  },
  {
   "cell_type": "code",
   "execution_count": 3,
   "id": "b5ac42c1",
   "metadata": {},
   "outputs": [],
   "source": [
    "files = sorted(os.listdir(wd + '/data/input/facebook/population/tiles/2709531524194929_2024-10-30_2024-11-14_csv'))\n",
    "files = [file for file in files]"
   ]
  },
  {
   "cell_type": "code",
   "execution_count": 4,
   "id": "647e1f56",
   "metadata": {},
   "outputs": [],
   "source": [
    "df = pd.DataFrame({'time': [], 'total': []})\n",
    "\n",
    "times = []\n",
    "totals = []\n",
    "\n",
    "for i in range(len(files)):  \n",
    "    try:\n",
    "        file = files[i]\n",
    "        df_pops = pd.read_csv(wd + '/data/input/facebook/population/tiles/2709531524194929_2024-10-30_2024-11-14_csv' + '/' + file)\n",
    "    except:\n",
    "        print(i)\n",
    "    times.append(file[-19:-4]) \n",
    "    totals.append(np.sum(df_pops['n_crisis']))\n",
    "\n",
    "df['time'] = times\n",
    "df['total'] = totals\n",
    "    "
   ]
  },
  {
   "cell_type": "markdown",
   "id": "b3d45f3c",
   "metadata": {},
   "source": [
    "## Rescale counts"
   ]
  },
  {
   "cell_type": "code",
   "execution_count": 5,
   "id": "f3439e85",
   "metadata": {},
   "outputs": [],
   "source": [
    "folders = sorted(os.listdir(wd + '/data/output/spain/facebook/population/grid-by-twindow'))\n",
    "if '.DS_Store' in folders:\n",
    "    folders.remove('.DS_Store')\n",
    "files = []\n",
    "for folder in folders:\n",
    "    files_in_folder = os.listdir(wd + '/data/output/spain/facebook/population/grid-by-twindow/' + folder)\n",
    "    files_in_folder = [f for f in files_in_folder if 'shp' in f]\n",
    "    files.append(files_in_folder[0])"
   ]
  },
  {
   "cell_type": "code",
   "execution_count": 10,
   "id": "36a41070",
   "metadata": {},
   "outputs": [
    {
     "name": "stdout",
     "output_type": "stream",
     "text": [
      "0.0\n",
      "2.2222222222222223\n",
      "4.444444444444445\n",
      "6.666666666666667\n",
      "8.88888888888889\n",
      "11.11111111111111\n",
      "13.333333333333334\n",
      "15.555555555555555\n",
      "17.77777777777778\n",
      "20.0\n",
      "22.22222222222222\n",
      "24.444444444444443\n",
      "26.666666666666668\n",
      "28.888888888888886\n",
      "31.11111111111111\n",
      "33.33333333333333\n",
      "35.55555555555556\n",
      "37.77777777777778\n",
      "40.0\n",
      "42.22222222222222\n",
      "44.44444444444444\n",
      "46.666666666666664\n",
      "48.888888888888886\n",
      "51.11111111111111\n",
      "53.333333333333336\n",
      "55.55555555555556\n",
      "57.77777777777777\n",
      "60.0\n",
      "62.22222222222222\n",
      "64.44444444444444\n",
      "66.66666666666666\n",
      "68.88888888888889\n",
      "71.11111111111111\n",
      "73.33333333333333\n",
      "75.55555555555556\n",
      "77.77777777777779\n",
      "80.0\n",
      "82.22222222222221\n",
      "84.44444444444444\n",
      "86.66666666666667\n",
      "88.88888888888889\n",
      "91.11111111111111\n",
      "93.33333333333333\n",
      "95.55555555555556\n",
      "97.77777777777777\n"
     ]
    }
   ],
   "source": [
    "for i in range(len(files)):   \n",
    "    \n",
    "    print(i/len(files)*100)\n",
    "    \n",
    "    try:\n",
    "        \n",
    "        folder = folders[i]\n",
    "        file = files[i]\n",
    "        path = wd + '/data/output/spain/facebook/population/grid-by-twindow' + '/' + folder + '/' + file\n",
    "        gdf = gpd.read_file(path)\n",
    "        \n",
    "        t = file[-19:-4]  \n",
    "        h = t[-4:]\n",
    "        Ntd = float(df[df['time']==t]['total'])\n",
    "        Mt = np.median(df[df['time'].str.contains(h)]['total'])\n",
    "\n",
    "        gdf['n_crisis_rescale'] = [gdf.loc[i, 'n_crisis']*Mt/Ntd for i in range(len(gdf))]\n",
    "        gdf['perchange_rescale'] = [100*(gdf.loc[i, 'n_crisis_rescale'] - \n",
    "                                         gdf.loc[i, 'n_baseline'])/gdf.loc[i, 'n_baseline'] \n",
    "                                    for i in range(len(gdf))]\n",
    "        \n",
    "        path = wd + '/data/output/spain/facebook/population/grid-by-twindow-rescale' + '/' + file\n",
    "\n",
    "        gdf.to_file(path[:-4] + '.gpkg')\n",
    "        \n",
    "    except:\n",
    "        print(i)"
   ]
  },
  {
   "cell_type": "code",
   "execution_count": 11,
   "id": "92bd9d58",
   "metadata": {},
   "outputs": [],
   "source": [
    "test = gpd.read_file(path[:-4] + '.gpkg')"
   ]
  },
  {
   "cell_type": "code",
   "execution_count": 18,
   "id": "54218656",
   "metadata": {},
   "outputs": [
    {
     "data": {
      "text/plain": [
       "<matplotlib.collections.PathCollection at 0x30a8fbfa0>"
      ]
     },
     "execution_count": 18,
     "metadata": {},
     "output_type": "execute_result"
    },
    {
     "data": {
      "image/png": "[encoded data removed]",
      "text/plain": [
       "<Figure size 640x480 with 1 Axes>"
      ]
     },
     "metadata": {},
     "output_type": "display_data"
    }
   ],
   "source": [
    "plt.scatter(test['n_crisis'], test['n_crisis_rescale'])"
   ]
  },
  {
   "cell_type": "code",
   "execution_count": null,
   "id": "e44d176c",
   "metadata": {},
   "outputs": [],
   "source": []
  }
 ],
 "metadata": {
  "kernelspec": {
   "display_name": "Python 3 (ipykernel)",
   "language": "python",
   "name": "python3"
  },
  "language_info": {
   "codemirror_mode": {
    "name": "ipython",
    "version": 3
   },
   "file_extension": ".py",
   "mimetype": "text/x-python",
   "name": "python",
   "nbconvert_exporter": "python",
   "pygments_lexer": "ipython3",
   "version": "3.10.9"
  }
 },
 "nbformat": 4,
 "nbformat_minor": 5
}
